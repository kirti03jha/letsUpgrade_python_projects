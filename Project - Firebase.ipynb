{
 "cells": [
  {
   "cell_type": "code",
   "execution_count": 1,
   "metadata": {},
   "outputs": [
    {
     "name": "stdout",
     "output_type": "stream",
     "text": [
      "Requirement already up-to-date: firebase-admin in e:\\downloads\\anaconda\\lib\\site-packages (4.5.0)\n",
      "Requirement already satisfied, skipping upgrade: google-api-core[grpc]<2.0.0dev,>=1.14.0; platform_python_implementation != \"PyPy\" in e:\\downloads\\anaconda\\lib\\site-packages (from firebase-admin) (1.24.1)\n",
      "Requirement already satisfied, skipping upgrade: google-cloud-storage>=1.18.0 in e:\\downloads\\anaconda\\lib\\site-packages (from firebase-admin) (1.35.0)\n",
      "Requirement already satisfied, skipping upgrade: google-api-python-client>=1.7.8 in e:\\downloads\\anaconda\\lib\\site-packages (from firebase-admin) (1.12.8)\n",
      "Requirement already satisfied, skipping upgrade: google-cloud-firestore>=1.4.0; platform_python_implementation != \"PyPy\" in e:\\downloads\\anaconda\\lib\\site-packages (from firebase-admin) (2.0.2)\n",
      "Requirement already satisfied, skipping upgrade: cachecontrol>=0.12.6 in e:\\downloads\\anaconda\\lib\\site-packages (from firebase-admin) (0.12.6)\n",
      "Requirement already satisfied, skipping upgrade: google-auth<2.0dev,>=1.21.1 in e:\\downloads\\anaconda\\lib\\site-packages (from google-api-core[grpc]<2.0.0dev,>=1.14.0; platform_python_implementation != \"PyPy\"->firebase-admin) (1.24.0)\n",
      "Requirement already satisfied, skipping upgrade: pytz in e:\\downloads\\anaconda\\lib\\site-packages (from google-api-core[grpc]<2.0.0dev,>=1.14.0; platform_python_implementation != \"PyPy\"->firebase-admin) (2019.3)\n",
      "Requirement already satisfied, skipping upgrade: six>=1.13.0 in e:\\downloads\\anaconda\\lib\\site-packages (from google-api-core[grpc]<2.0.0dev,>=1.14.0; platform_python_implementation != \"PyPy\"->firebase-admin) (1.14.0)\n",
      "Requirement already satisfied, skipping upgrade: setuptools>=34.0.0 in e:\\downloads\\anaconda\\lib\\site-packages (from google-api-core[grpc]<2.0.0dev,>=1.14.0; platform_python_implementation != \"PyPy\"->firebase-admin) (45.2.0.post20200210)\n",
      "Requirement already satisfied, skipping upgrade: requests<3.0.0dev,>=2.18.0 in e:\\downloads\\anaconda\\lib\\site-packages (from google-api-core[grpc]<2.0.0dev,>=1.14.0; platform_python_implementation != \"PyPy\"->firebase-admin) (2.22.0)\n",
      "Requirement already satisfied, skipping upgrade: googleapis-common-protos<2.0dev,>=1.6.0 in e:\\downloads\\anaconda\\lib\\site-packages (from google-api-core[grpc]<2.0.0dev,>=1.14.0; platform_python_implementation != \"PyPy\"->firebase-admin) (1.52.0)\n",
      "Requirement already satisfied, skipping upgrade: protobuf>=3.12.0 in e:\\downloads\\anaconda\\lib\\site-packages (from google-api-core[grpc]<2.0.0dev,>=1.14.0; platform_python_implementation != \"PyPy\"->firebase-admin) (3.14.0)\n",
      "Requirement already satisfied, skipping upgrade: grpcio<2.0dev,>=1.29.0; extra == \"grpc\" in e:\\downloads\\anaconda\\lib\\site-packages (from google-api-core[grpc]<2.0.0dev,>=1.14.0; platform_python_implementation != \"PyPy\"->firebase-admin) (1.34.0)\n",
      "Requirement already satisfied, skipping upgrade: google-cloud-core<2.0dev,>=1.4.1 in e:\\downloads\\anaconda\\lib\\site-packages (from google-cloud-storage>=1.18.0->firebase-admin) (1.5.0)\n",
      "Requirement already satisfied, skipping upgrade: google-resumable-media<2.0dev,>=1.2.0 in e:\\downloads\\anaconda\\lib\\site-packages (from google-cloud-storage>=1.18.0->firebase-admin) (1.2.0)\n",
      "Requirement already satisfied, skipping upgrade: httplib2<1dev,>=0.15.0 in e:\\downloads\\anaconda\\lib\\site-packages (from google-api-python-client>=1.7.8->firebase-admin) (0.18.1)\n",
      "Requirement already satisfied, skipping upgrade: uritemplate<4dev,>=3.0.0 in e:\\downloads\\anaconda\\lib\\site-packages (from google-api-python-client>=1.7.8->firebase-admin) (3.0.1)\n",
      "Requirement already satisfied, skipping upgrade: google-auth-httplib2>=0.0.3 in e:\\downloads\\anaconda\\lib\\site-packages (from google-api-python-client>=1.7.8->firebase-admin) (0.0.4)\n",
      "Requirement already satisfied, skipping upgrade: proto-plus>=1.3.0 in e:\\downloads\\anaconda\\lib\\site-packages (from google-cloud-firestore>=1.4.0; platform_python_implementation != \"PyPy\"->firebase-admin) (1.13.0)\n",
      "Requirement already satisfied, skipping upgrade: msgpack>=0.5.2 in e:\\downloads\\anaconda\\lib\\site-packages (from cachecontrol>=0.12.6->firebase-admin) (0.6.1)\n",
      "Requirement already satisfied, skipping upgrade: cachetools<5.0,>=2.0.0 in e:\\downloads\\anaconda\\lib\\site-packages (from google-auth<2.0dev,>=1.21.1->google-api-core[grpc]<2.0.0dev,>=1.14.0; platform_python_implementation != \"PyPy\"->firebase-admin) (4.2.0)\n",
      "Requirement already satisfied, skipping upgrade: pyasn1-modules>=0.2.1 in e:\\downloads\\anaconda\\lib\\site-packages (from google-auth<2.0dev,>=1.21.1->google-api-core[grpc]<2.0.0dev,>=1.14.0; platform_python_implementation != \"PyPy\"->firebase-admin) (0.2.8)\n",
      "Requirement already satisfied, skipping upgrade: rsa<5,>=3.1.4; python_version >= \"3.6\" in e:\\downloads\\anaconda\\lib\\site-packages (from google-auth<2.0dev,>=1.21.1->google-api-core[grpc]<2.0.0dev,>=1.14.0; platform_python_implementation != \"PyPy\"->firebase-admin) (4.6)\n",
      "Requirement already satisfied, skipping upgrade: urllib3!=1.25.0,!=1.25.1,<1.26,>=1.21.1 in e:\\downloads\\anaconda\\lib\\site-packages (from requests<3.0.0dev,>=2.18.0->google-api-core[grpc]<2.0.0dev,>=1.14.0; platform_python_implementation != \"PyPy\"->firebase-admin) (1.25.8)\n",
      "Requirement already satisfied, skipping upgrade: certifi>=2017.4.17 in e:\\downloads\\anaconda\\lib\\site-packages (from requests<3.0.0dev,>=2.18.0->google-api-core[grpc]<2.0.0dev,>=1.14.0; platform_python_implementation != \"PyPy\"->firebase-admin) (2019.11.28)\n",
      "Requirement already satisfied, skipping upgrade: chardet<3.1.0,>=3.0.2 in e:\\downloads\\anaconda\\lib\\site-packages (from requests<3.0.0dev,>=2.18.0->google-api-core[grpc]<2.0.0dev,>=1.14.0; platform_python_implementation != \"PyPy\"->firebase-admin) (3.0.4)\n",
      "Requirement already satisfied, skipping upgrade: idna<2.9,>=2.5 in e:\\downloads\\anaconda\\lib\\site-packages (from requests<3.0.0dev,>=2.18.0->google-api-core[grpc]<2.0.0dev,>=1.14.0; platform_python_implementation != \"PyPy\"->firebase-admin) (2.8)\n",
      "Requirement already satisfied, skipping upgrade: google-crc32c<2.0dev,>=1.0; python_version >= \"3.5\" in e:\\downloads\\anaconda\\lib\\site-packages (from google-resumable-media<2.0dev,>=1.2.0->google-cloud-storage>=1.18.0->firebase-admin) (1.1.0)\n",
      "Requirement already satisfied, skipping upgrade: pyasn1<0.5.0,>=0.4.6 in e:\\downloads\\anaconda\\lib\\site-packages (from pyasn1-modules>=0.2.1->google-auth<2.0dev,>=1.21.1->google-api-core[grpc]<2.0.0dev,>=1.14.0; platform_python_implementation != \"PyPy\"->firebase-admin) (0.4.8)\n",
      "Requirement already satisfied, skipping upgrade: cffi>=1.0.0 in e:\\downloads\\anaconda\\lib\\site-packages (from google-crc32c<2.0dev,>=1.0; python_version >= \"3.5\"->google-resumable-media<2.0dev,>=1.2.0->google-cloud-storage>=1.18.0->firebase-admin) (1.14.0)\n",
      "Requirement already satisfied, skipping upgrade: pycparser in e:\\downloads\\anaconda\\lib\\site-packages (from cffi>=1.0.0->google-crc32c<2.0dev,>=1.0; python_version >= \"3.5\"->google-resumable-media<2.0dev,>=1.2.0->google-cloud-storage>=1.18.0->firebase-admin) (2.19)\n"
     ]
    }
   ],
   "source": [
    "!pip install --upgrade firebase-admin"
   ]
  },
  {
   "cell_type": "code",
   "execution_count": 2,
   "metadata": {},
   "outputs": [],
   "source": [
    "import firebase_admin"
   ]
  },
  {
   "cell_type": "code",
   "execution_count": 3,
   "metadata": {},
   "outputs": [],
   "source": [
    "from firebase_admin import credentials\n",
    "from firebase_admin import firestore"
   ]
  },
  {
   "cell_type": "code",
   "execution_count": 4,
   "metadata": {},
   "outputs": [
    {
     "data": {
      "text/plain": [
       "<firebase_admin.App at 0x1c8fdc96548>"
      ]
     },
     "execution_count": 4,
     "metadata": {},
     "output_type": "execute_result"
    }
   ],
   "source": [
    "cred = credentials.Certificate(\"python---learning-firebase-adminsdk-8kba2-f008e451df.json\")\n",
    "firebase_admin.initialize_app(cred)"
   ]
  },
  {
   "cell_type": "code",
   "execution_count": 5,
   "metadata": {},
   "outputs": [],
   "source": [
    "db = firestore.client()"
   ]
  },
  {
   "cell_type": "code",
   "execution_count": 6,
   "metadata": {},
   "outputs": [
    {
     "data": {
      "text/plain": [
       "update_time {\n",
       "  seconds: 1608398675\n",
       "  nanos: 417922000\n",
       "}"
      ]
     },
     "execution_count": 6,
     "metadata": {},
     "output_type": "execute_result"
    }
   ],
   "source": [
    "doc_ref = db.collection(u'users').document(u'abc')\n",
    "\n",
    "doc_ref.set({\n",
    "    u'Model': u'Maruti 800',\n",
    "    u'Color': u'White',\n",
    "    u'Manufactoring Date': 1999\n",
    "})"
   ]
  },
  {
   "cell_type": "code",
   "execution_count": 7,
   "metadata": {},
   "outputs": [],
   "source": [
    "def enterDataInDB():\n",
    "    doc_ref = db.collection(u'Python Learning').document()\n",
    "    \n",
    "    model = input(\"Enter Name\")\n",
    "    color = input(\"Enter Color\")\n",
    "    manufactoringDate = int(input(\"Enter Manufactoring Date\"))\n",
    "    \n",
    "    dit = {}\n",
    "    dit[\"model\"] = model\n",
    "    dit[\"color\"] = color\n",
    "    dit[\"manufactoringDate\"] = manufactoringDate\n",
    "    \n",
    "    doc_ref.set(dit)"
   ]
  },
  {
   "cell_type": "code",
   "execution_count": 8,
   "metadata": {},
   "outputs": [
    {
     "name": "stdout",
     "output_type": "stream",
     "text": [
      "Enter NameSwift\n",
      "Enter ColorRed\n",
      "Enter Manufactoring Date2005\n"
     ]
    }
   ],
   "source": [
    "enterDataInDB()"
   ]
  },
  {
   "cell_type": "code",
   "execution_count": 9,
   "metadata": {},
   "outputs": [
    {
     "name": "stdout",
     "output_type": "stream",
     "text": [
      "Enter NameHector\n",
      "Enter ColorBlue\n",
      "Enter Manufactoring Date2019\n"
     ]
    }
   ],
   "source": [
    "enterDataInDB()\n"
   ]
  },
  {
   "cell_type": "code",
   "execution_count": 10,
   "metadata": {},
   "outputs": [
    {
     "name": "stdout",
     "output_type": "stream",
     "text": [
      "Enter NameEcosport\n",
      "Enter ColorOrange\n",
      "Enter Manufactoring Date2015\n"
     ]
    }
   ],
   "source": [
    "enterDataInDB()\n"
   ]
  },
  {
   "cell_type": "code",
   "execution_count": 11,
   "metadata": {},
   "outputs": [
    {
     "name": "stdout",
     "output_type": "stream",
     "text": [
      "Enter NameJazz\n",
      "Enter ColorSilver\n",
      "Enter Manufactoring Date2016\n"
     ]
    }
   ],
   "source": [
    "enterDataInDB()"
   ]
  },
  {
   "cell_type": "code",
   "execution_count": 12,
   "metadata": {},
   "outputs": [
    {
     "name": "stdout",
     "output_type": "stream",
     "text": [
      "ID -  KgUyp7Vzb432XAWgAbUg\n",
      "Model Swift\n",
      "Color Red\n",
      "Manufactoring Date 2005\n",
      "---------------\n",
      "---------------\n",
      "ID -  LcyQKTZ4AtLeZnfzWb9M\n",
      "Model Indica\n",
      "Color White\n",
      "Manufactoring Date 90\n",
      "---------------\n",
      "---------------\n",
      "ID -  ZJfYBq3vDMoKhnI7byyt\n",
      "Model Jazz\n",
      "Color Silver\n",
      "Manufactoring Date 2016\n",
      "---------------\n",
      "---------------\n",
      "ID -  fJH9NnnHQ0sdTIWH2zTj\n",
      "Model Ecosport\n",
      "Color Orange\n",
      "Manufactoring Date 2015\n",
      "---------------\n",
      "---------------\n",
      "ID -  y1njY19jb2cPg6JPVYqf\n",
      "Model Hector\n",
      "Color Blue\n",
      "Manufactoring Date 2019\n",
      "---------------\n",
      "---------------\n"
     ]
    }
   ],
   "source": [
    "docs = db.collection(u'Python Learning').stream()\n",
    "\n",
    "for doc in docs:\n",
    "#     print(f'{doc.id} => {doc.to_dict()}')\n",
    "    \n",
    "    print(\"ID - \", doc.id)\n",
    "    \n",
    "    print(\"Model\", doc.to_dict().get(\"model\"))\n",
    "    print(\"Color\", doc.to_dict().get(\"color\"))\n",
    "    print(\"Manufactoring Date\", doc.to_dict().get(\"manufactoringDate\") )\n",
    "    \n",
    "    print(\"---------------\")\n",
    "    print(\"---------------\")\n",
    "    "
   ]
  },
  {
   "cell_type": "code",
   "execution_count": 14,
   "metadata": {},
   "outputs": [],
   "source": [
    "def updateDatainFirebase(uid, updatedmanufactoringDate):\n",
    "    doc_ref = db.collection(u'Python Learning').document(uid)\n",
    "    \n",
    "    doc_ref.update({\"manufactoringDate\":updatedmanufactoringDate})"
   ]
  },
  {
   "cell_type": "code",
   "execution_count": 16,
   "metadata": {},
   "outputs": [],
   "source": [
    "updateDatainFirebase(\"y1njY19jb2cPg6JPVYqf\",2020)"
   ]
  },
  {
   "cell_type": "code",
   "execution_count": 17,
   "metadata": {},
   "outputs": [
    {
     "name": "stdout",
     "output_type": "stream",
     "text": [
      "ID -  KgUyp7Vzb432XAWgAbUg\n",
      "Model Swift\n",
      "Color Red\n",
      "Manufactoring Date 2005\n",
      "---------------\n",
      "---------------\n",
      "ID -  LcyQKTZ4AtLeZnfzWb9M\n",
      "Model Indica\n",
      "Color White\n",
      "Manufactoring Date 90\n",
      "---------------\n",
      "---------------\n",
      "ID -  ZJfYBq3vDMoKhnI7byyt\n",
      "Model Jazz\n",
      "Color Silver\n",
      "Manufactoring Date 2016\n",
      "---------------\n",
      "---------------\n",
      "ID -  fJH9NnnHQ0sdTIWH2zTj\n",
      "Model Ecosport\n",
      "Color Orange\n",
      "Manufactoring Date 2015\n",
      "---------------\n",
      "---------------\n",
      "ID -  y1njY19jb2cPg6JPVYqf\n",
      "Model Hector\n",
      "Color Blue\n",
      "Manufactoring Date 2020\n",
      "---------------\n",
      "---------------\n"
     ]
    }
   ],
   "source": [
    "docs = db.collection(u'Python Learning').stream()\n",
    "\n",
    "for doc in docs:\n",
    "#     print(f'{doc.id} => {doc.to_dict()}')\n",
    "    \n",
    "    print(\"ID - \", doc.id)\n",
    "    \n",
    "    print(\"Model\", doc.to_dict().get(\"model\"))\n",
    "    print(\"Color\", doc.to_dict().get(\"color\"))\n",
    "    print(\"Manufactoring Date\", doc.to_dict().get(\"manufactoringDate\") )\n",
    "    \n",
    "    print(\"---------------\")\n",
    "    print(\"---------------\")"
   ]
  },
  {
   "cell_type": "code",
   "execution_count": 18,
   "metadata": {},
   "outputs": [],
   "source": [
    "def deleteDataInFirebase(uid):\n",
    "    db.collection(u'Python Learning').document(uid).delete()\n"
   ]
  },
  {
   "cell_type": "code",
   "execution_count": 19,
   "metadata": {},
   "outputs": [],
   "source": [
    "deleteDataInFirebase('y1njY19jb2cPg6JPVYqf')"
   ]
  },
  {
   "cell_type": "code",
   "execution_count": 20,
   "metadata": {},
   "outputs": [
    {
     "name": "stdout",
     "output_type": "stream",
     "text": [
      "ID -  KgUyp7Vzb432XAWgAbUg\n",
      "Model Swift\n",
      "Color Red\n",
      "Manufactoring Date 2005\n",
      "---------------\n",
      "---------------\n",
      "ID -  LcyQKTZ4AtLeZnfzWb9M\n",
      "Model Indica\n",
      "Color White\n",
      "Manufactoring Date 90\n",
      "---------------\n",
      "---------------\n",
      "ID -  ZJfYBq3vDMoKhnI7byyt\n",
      "Model Jazz\n",
      "Color Silver\n",
      "Manufactoring Date 2016\n",
      "---------------\n",
      "---------------\n",
      "ID -  fJH9NnnHQ0sdTIWH2zTj\n",
      "Model Ecosport\n",
      "Color Orange\n",
      "Manufactoring Date 2015\n",
      "---------------\n",
      "---------------\n"
     ]
    }
   ],
   "source": [
    "docs = db.collection(u'Python Learning').stream()\n",
    "\n",
    "for doc in docs:\n",
    "#     print(f'{doc.id} => {doc.to_dict()}')\n",
    "    \n",
    "    print(\"ID - \", doc.id)\n",
    "    \n",
    "    print(\"Model\", doc.to_dict().get(\"model\"))\n",
    "    print(\"Color\", doc.to_dict().get(\"color\"))\n",
    "    print(\"Manufactoring Date\", doc.to_dict().get(\"manufactoringDate\") )\n",
    "    \n",
    "    print(\"---------------\")\n",
    "    print(\"---------------\")"
   ]
  },
  {
   "cell_type": "code",
   "execution_count": null,
   "metadata": {},
   "outputs": [],
   "source": []
  }
 ],
 "metadata": {
  "kernelspec": {
   "display_name": "Python 3",
   "language": "python",
   "name": "python3"
  },
  "language_info": {
   "codemirror_mode": {
    "name": "ipython",
    "version": 3
   },
   "file_extension": ".py",
   "mimetype": "text/x-python",
   "name": "python",
   "nbconvert_exporter": "python",
   "pygments_lexer": "ipython3",
   "version": "3.7.6"
  }
 },
 "nbformat": 4,
 "nbformat_minor": 4
}
